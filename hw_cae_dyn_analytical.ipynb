{
 "cells": [
  {
   "cell_type": "markdown",
   "source": [
    "# Imports and constants"
   ],
   "metadata": {
    "collapsed": false
   }
  },
  {
   "cell_type": "code",
   "execution_count": 34,
   "outputs": [],
   "source": [
    "import numpy as np\n",
    "import sympy as smp\n",
    "import warnings\n",
    "import matplotlib.pyplot as plt\n",
    "import matplotlib.patches as m_patches\n",
    "import pandas as pd\n",
    "\n",
    "from typing import Tuple, Optional, List, Union\n",
    "from scipy.linalg import null_space"
   ],
   "metadata": {
    "collapsed": false
   }
  },
  {
   "cell_type": "code",
   "execution_count": 35,
   "outputs": [],
   "source": [
    "# Geometry\n",
    "L1 = 0.09\n",
    "L2 = 0.0424\n",
    "L3 = 0.0776\n",
    "\n",
    "X3 = 0.045\n",
    "Y3 = -0.05\n",
    "P3 = np.array((X3, Y3))\n",
    "\n",
    "R = 0.015\n",
    "W1 = 0.03\n",
    "W2 = 0.0107\n",
    "ALPHA = 2.7211\n",
    "\n",
    "THETA_UPPER_SIM = (49.92 / 180) * np.pi\n",
    "THETA_LOWER_SIM = (-9.6 / 180) * np.pi\n",
    "\n",
    "# Physical properties\n",
    "M1 = 0.1243\n",
    "M2 = 0.1883\n",
    "M3 = 0.3445\n",
    "\n",
    "I1_ZZ = 0.002\n",
    "I2_ZZ = 0.0018\n",
    "I3_ZZ = 0.0016\n",
    "\n",
    "C1_L = 0.0450\n",
    "C2_L = 0.0535\n",
    "C3_L = 0.0144\n",
    "A3_ANGLE = 1.9705\n",
    "\n",
    "C1 = np.array((C1_L, 0, 0))\n",
    "C2 = np.array((C2_L, 0, 0))\n",
    "C3 = np.array((L3 - C3_L * np.cos(A3_ANGLE), -C3_L * np.sin(A3_ANGLE), 0))\n",
    "\n",
    "G_ACC = 9.80665\n",
    "\n",
    "# Initial conditions\n",
    "ANG_ACC_0 = 0.2\n",
    "ANG_VEL_0 = 0\n",
    "ANG_0 = -0.16"
   ],
   "metadata": {
    "collapsed": false
   }
  },
  {
   "cell_type": "markdown",
   "source": [
    "# Analytical kinematics"
   ],
   "metadata": {
    "collapsed": false
   }
  },
  {
   "cell_type": "code",
   "execution_count": 36,
   "outputs": [],
   "source": [
    "time_sym = smp.Symbol('t')\n",
    "theta_sym = smp.Function(r'\\theta')(time_sym)\n",
    "x_sym, y_sym = smp.symbols('x,y')\n",
    "\n",
    "circle_1 = smp.Eq(x_sym ** 2 + y_sym ** 2, L1 ** 2)\n",
    "circle_2 = smp.Eq((x_sym - X3) ** 2 + (y_sym - Y3) ** 2, (L2 + L3) ** 2)"
   ],
   "metadata": {
    "collapsed": false
   }
  },
  {
   "cell_type": "code",
   "execution_count": 37,
   "outputs": [],
   "source": [
    "root_1_sym, root_2_sym = smp.solve([circle_1, circle_2], x_sym, y_sym)\n",
    "x_upper_crit_1_sym, y_upper_crit_1_sym = root_1_sym\n",
    "x_upper_crit_2_sym, y_upper_crit_2_sym = root_2_sym"
   ],
   "metadata": {
    "collapsed": false
   }
  },
  {
   "cell_type": "code",
   "execution_count": 38,
   "outputs": [],
   "source": [
    "x_upper_crit_1_sym = x_upper_crit_1_sym.simplify()\n",
    "y_upper_crit_1_sym = y_upper_crit_1_sym.simplify()\n",
    "x_upper_crit_2_sym = x_upper_crit_2_sym.simplify()\n",
    "y_upper_crit_2_sym = y_upper_crit_2_sym.simplify()"
   ],
   "metadata": {
    "collapsed": false
   }
  },
  {
   "cell_type": "code",
   "execution_count": 39,
   "outputs": [
    {
     "name": "stdout",
     "output_type": "stream",
     "text": [
      "We take second root\n"
     ]
    }
   ],
   "source": [
    "check = x_upper_crit_1_sym > x_upper_crit_2_sym\n",
    "\n",
    "if check:\n",
    "    print('We take first root')\n",
    "    x_upper_crit_sym = x_upper_crit_1_sym\n",
    "    y_upper_crit_sym = y_upper_crit_1_sym\n",
    "else:\n",
    "    print('We take second root')\n",
    "    x_upper_crit_sym = x_upper_crit_2_sym\n",
    "    y_upper_crit_sym = y_upper_crit_2_sym"
   ],
   "metadata": {
    "collapsed": false
   }
  },
  {
   "cell_type": "code",
   "execution_count": 40,
   "outputs": [
    {
     "name": "stdout",
     "output_type": "stream",
     "text": [
      "0.879939415721041\n"
     ]
    }
   ],
   "source": [
    "theta_upper_crit_sym = smp.atan2(y_upper_crit_sym, x_upper_crit_sym)\n",
    "theta_upper_crit = float(theta_upper_crit_sym)\n",
    "print(theta_upper_crit)"
   ],
   "metadata": {
    "collapsed": false
   }
  },
  {
   "cell_type": "code",
   "execution_count": 41,
   "outputs": [],
   "source": [
    "x_1_sym, y_1_sym = smp.symbols('x_1,y_1')\n",
    "\n",
    "circle_1 = smp.Eq((x_sym - x_1_sym) ** 2 + (y_sym - y_1_sym) ** 2, L2 ** 2)\n",
    "circle_2 = smp.Eq((x_sym - X3) ** 2 + (y_sym - Y3) ** 2, L3 ** 2)"
   ],
   "metadata": {
    "collapsed": false
   }
  },
  {
   "cell_type": "code",
   "execution_count": 42,
   "outputs": [],
   "source": [
    "root_1_sym, root_2_sym = smp.solve([circle_1, circle_2], x_sym, y_sym)\n",
    "x_2_1_sym, y_2_1_sym = root_1_sym\n",
    "x_2_2_sym, y_2_2_sym = root_2_sym"
   ],
   "metadata": {
    "collapsed": false
   }
  },
  {
   "cell_type": "code",
   "execution_count": 43,
   "outputs": [],
   "source": [
    "x_2_1_sym = x_2_1_sym.simplify()\n",
    "y_2_1_sym = y_2_1_sym.simplify()\n",
    "x_2_2_sym = x_2_2_sym.simplify()\n",
    "y_2_2_sym = y_2_2_sym.simplify()"
   ],
   "metadata": {
    "collapsed": false
   }
  },
  {
   "cell_type": "code",
   "execution_count": 44,
   "outputs": [
    {
     "name": "stdout",
     "output_type": "stream",
     "text": [
      "We take first root\n"
     ]
    }
   ],
   "source": [
    "check = x_2_1_sym.subs([(x_1_sym, L1), (y_1_sym, 0)]) > x_2_2_sym.subs([(x_1_sym, L1), (y_1_sym, 0)])\n",
    "\n",
    "if check:\n",
    "    print('We take first root')\n",
    "    x_2_sym = x_2_1_sym\n",
    "    y_2_sym = y_2_1_sym\n",
    "else:\n",
    "    print('We take second root')\n",
    "    x_2_sym = x_2_2_sym\n",
    "    y_2_sym = y_2_2_sym"
   ],
   "metadata": {
    "collapsed": false
   }
  },
  {
   "cell_type": "code",
   "execution_count": 45,
   "outputs": [],
   "source": [
    "x_2_sym = x_2_sym.subs([(x_1_sym, L1 * smp.cos(theta_sym)), (y_1_sym, L1 * smp.sin(theta_sym))]).simplify()\n",
    "y_2_sym = y_2_sym.subs([(x_1_sym, L1 * smp.cos(theta_sym)), (y_1_sym, L1 * smp.sin(theta_sym))]).simplify()\n",
    "\n",
    "x_1_sym = L1 * smp.cos(theta_sym)\n",
    "y_1_sym = L1 * smp.sin(theta_sym)"
   ],
   "metadata": {
    "collapsed": false
   }
  },
  {
   "cell_type": "code",
   "execution_count": 46,
   "outputs": [],
   "source": [
    "x_1_sym_raw = smp.lambdify([theta_sym], x_1_sym)\n",
    "y_1_sym_raw = smp.lambdify([theta_sym], y_1_sym)\n",
    "y_2_sym_raw = smp.lambdify([theta_sym], y_2_sym)\n",
    "x_2_sym_raw = smp.lambdify([theta_sym], x_2_sym)"
   ],
   "metadata": {
    "collapsed": false
   }
  },
  {
   "cell_type": "code",
   "execution_count": 47,
   "outputs": [],
   "source": [
    "def get_first_point(theta: float) -> np.ndarray:\n",
    "    return np.array((x_1_sym_raw(theta), y_1_sym_raw(theta)))\n",
    "\n",
    "def get_second_point(theta: float) -> np.ndarray:\n",
    "    with warnings.catch_warnings():\n",
    "        warnings.simplefilter(\"ignore\")\n",
    "        return np.array((x_2_sym_raw(theta), y_2_sym_raw(theta)))"
   ],
   "metadata": {
    "collapsed": false
   }
  },
  {
   "cell_type": "code",
   "execution_count": 48,
   "outputs": [],
   "source": [
    "def get_line_params(p_1: np.ndarray, p_2: np.ndarray) -> Tuple[np.ndarray, float]:\n",
    "    p_matrix = np.array((np.r_[p_1, -1], np.r_[p_2, -1]))\n",
    "    n_x, n_y, d = null_space(p_matrix)[:, 0]\n",
    "\n",
    "    norm_v = np.array((n_x, n_y))\n",
    "    norm_v /= np.linalg.norm(norm_v)\n",
    "\n",
    "    if d < 0:\n",
    "        d = -d\n",
    "        norm_v = -norm_v\n",
    "\n",
    "    return norm_v, d"
   ],
   "metadata": {
    "collapsed": false
   }
  },
  {
   "cell_type": "code",
   "execution_count": 49,
   "outputs": [],
   "source": [
    "def get_line_a(p_1: np.ndarray, p_2: np.ndarray) -> Tuple[np.ndarray, float]:\n",
    "    norm_v, d = get_line_params(p_1, p_2)\n",
    "    return norm_v, d - W1 / 2\n",
    "\n",
    "def get_line_b(p_1: np.ndarray, p_2: np.ndarray) -> Tuple[np.ndarray, float]:\n",
    "    rot = np.array([[np.cos(ALPHA), -np.sin(ALPHA)],\n",
    "                    [np.sin(ALPHA), np.cos(ALPHA)]])\n",
    "    p_2_p_1 = p_2 - p_1\n",
    "    p_2_p_1 = rot.dot(p_2_p_1)\n",
    "    norm_v, d = get_line_params(p_1, p_1 + p_2_p_1)\n",
    "    return norm_v, d - W2 / 2"
   ],
   "metadata": {
    "collapsed": false
   }
  },
  {
   "cell_type": "code",
   "execution_count": 50,
   "outputs": [],
   "source": [
    "D_THETA = 0.001\n",
    "\n",
    "def find_lower_crit_theta() -> Optional[float]:\n",
    "    c_theta = 0\n",
    "    while c_theta > -2 * np.pi:\n",
    "        p_1 = get_first_point(c_theta)\n",
    "        p_2 = get_second_point(c_theta)\n",
    "\n",
    "        if np.isnan(p_1).any() or np.isnan(p_2).any():\n",
    "            return c_theta\n",
    "\n",
    "        norm_a, d_a = get_line_a(P3, p_2)\n",
    "        norm_b, d_b = get_line_b(P3, p_2)\n",
    "\n",
    "        if norm_a.dot(p_1 - norm_a * d_a) >= -R:\n",
    "            return c_theta\n",
    "        if norm_b.dot(-norm_b * d_b) >= -R:\n",
    "            return c_theta\n",
    "\n",
    "        c_theta -= D_THETA\n",
    "    return None"
   ],
   "metadata": {
    "collapsed": false
   }
  },
  {
   "cell_type": "code",
   "execution_count": 51,
   "outputs": [
    {
     "name": "stdout",
     "output_type": "stream",
     "text": [
      "-0.16200000000000012\n"
     ]
    }
   ],
   "source": [
    "theta_lower_crit = find_lower_crit_theta()\n",
    "print(theta_lower_crit)"
   ],
   "metadata": {
    "collapsed": false
   }
  },
  {
   "cell_type": "code",
   "execution_count": 52,
   "outputs": [],
   "source": [
    "%matplotlib inline"
   ],
   "metadata": {
    "collapsed": false
   }
  },
  {
   "cell_type": "code",
   "execution_count": 53,
   "outputs": [
    {
     "data": {
      "text/plain": "<Figure size 1000x1000 with 1 Axes>",
      "image/png": "[encoded data removed]"
     },
     "metadata": {},
     "output_type": "display_data"
    }
   ],
   "source": [
    "def arc_filled(center: Union[List[float], np.ndarray],\n",
    "               radius: float, theta_1: float, theta_2: float,\n",
    "               ax=None, resolution: int = 50, **kwargs):\n",
    "    if ax is None:\n",
    "        ax = plt.gca()\n",
    "\n",
    "    theta = np.linspace(theta_1, theta_2, resolution)\n",
    "    points = np.vstack((radius*np.cos(theta) + center[0],\n",
    "                        radius*np.sin(theta) + center[1]))\n",
    "    points = np.c_[points, [0, 0]]\n",
    "    poly = m_patches.Polygon(points.T, closed=True, **kwargs)\n",
    "    ax.add_patch(poly)\n",
    "    return poly\n",
    "\n",
    "\n",
    "def arc_path(center: Union[List[float], np.ndarray],\n",
    "             radius: float, theta_1: float, theta_2: float,\n",
    "             ax=None, **kwargs):\n",
    "    if ax is None:\n",
    "        ax = plt.gca()\n",
    "\n",
    "    theta_1 = 180 * (theta_1 / np.pi)\n",
    "    theta_2 = 180 * (theta_2 / np.pi)\n",
    "    arc = m_patches.Arc(tuple(center), 2 * radius, 2 * radius, theta1=theta_1, theta2=theta_2, **kwargs)\n",
    "    ax.add_patch(arc)\n",
    "    return arc\n",
    "\n",
    "\n",
    "def plot_angle(center: Union[List[float], np.ndarray], radius: float,\n",
    "               theta_1: float, theta_2: float, color: str,\n",
    "               ax, **kwargs):\n",
    "    c_x, c_y = center\n",
    "    ax.plot([c_x, radius * np.cos(theta_1)], [c_y, radius * np.sin(theta_1)],\n",
    "            marker='o', color=color, label=kwargs.get('label', None))\n",
    "    ax.plot([c_x, radius * np.cos(theta_2)], [c_y, radius * np.sin(theta_2)],\n",
    "            marker='o', color=color)\n",
    "\n",
    "    arc_filled([0, 0], L1, theta_1, theta_2, ax=ax, color=color, alpha=kwargs.get('alpha', 0.25))\n",
    "    arc_path([0, 0], L1, theta_1, theta_2, ax=ax, color=color)\n",
    "\n",
    "def compare_via_pie_chart():\n",
    "    plt.rcParams.update({'font.size': 15})\n",
    "    plt.figure(figsize=(10, 10))\n",
    "    plt.title('Allowed angles')\n",
    "    plt.axis('equal')\n",
    "\n",
    "    ax = plt.gca()\n",
    "    plot_angle([0, 0], L1, theta_lower_crit, theta_upper_crit, 'b', ax,\n",
    "               label=f'Analytical: [{theta_lower_crit:.2f}, {theta_upper_crit:.2f}] rads')\n",
    "    plot_angle([0, 0], L1, THETA_LOWER_SIM, THETA_UPPER_SIM, 'r', ax,\n",
    "               label=f'NX Simulation: [{THETA_LOWER_SIM:.2f}, {THETA_UPPER_SIM:.2f}] rads')\n",
    "\n",
    "    plt.xlabel('$x$, m')\n",
    "    plt.ylabel('$y$, m')\n",
    "    plt.legend(loc='best')\n",
    "    plt.show()\n",
    "\n",
    "compare_via_pie_chart()"
   ],
   "metadata": {
    "collapsed": false
   }
  },
  {
   "cell_type": "markdown",
   "source": [
    "# Analytical dynamics"
   ],
   "metadata": {
    "collapsed": false
   }
  },
  {
   "cell_type": "code",
   "execution_count": 54,
   "outputs": [],
   "source": [
    "x_1_f_sym = smp.Function('x_1')(theta_sym)\n",
    "y_1_f_sym = smp.Function('y_1')(theta_sym)\n",
    "x_2_f_sym = smp.Function('x_2')(theta_sym)\n",
    "y_2_f_sym = smp.Function('y_2')(theta_sym)\n",
    "\n",
    "rot_1_sym = smp.Matrix(\n",
    "    [\n",
    "        [smp.cos(theta_sym), -smp.sin(theta_sym), 0],\n",
    "        [smp.sin(theta_sym), smp.cos(theta_sym), 0],\n",
    "        [0, 0, 1]\n",
    "    ]\n",
    ")\n",
    "rot_2_sym = smp.Matrix(\n",
    "    [\n",
    "        [(x_2_f_sym - x_1_f_sym) / L2, (y_1_f_sym - y_2_f_sym) / L2, 0],\n",
    "        [(y_2_f_sym - y_1_f_sym) / L2, (x_2_f_sym - x_1_f_sym) / L2, 0],\n",
    "        [0, 0, 1]\n",
    "    ]\n",
    ")\n",
    "rot_3_sym = smp.Matrix(\n",
    "    [\n",
    "        [(X3 - x_2_f_sym) / L3, (y_2_f_sym - Y3) / L3, 0],\n",
    "        [(Y3 - y_2_f_sym) / L3, (X3 - x_2_f_sym) / L3, 0],\n",
    "        [0, 0, 1]\n",
    "    ]\n",
    ")\n",
    "rot_2_sym.simplify()\n",
    "rot_3_sym.simplify()"
   ],
   "metadata": {
    "collapsed": false
   }
  },
  {
   "cell_type": "code",
   "execution_count": 55,
   "outputs": [],
   "source": [
    "dot_rot_2_sym = rot_2_sym.diff(time_sym)\n",
    "dot_rot_3_sym = rot_3_sym.diff(time_sym)\n",
    "dot_rot_2_sym.simplify()\n",
    "dot_rot_3_sym.simplify()"
   ],
   "metadata": {
    "collapsed": false
   }
  },
  {
   "cell_type": "code",
   "execution_count": 56,
   "outputs": [],
   "source": [
    "omega_2_sym = smp.Matrix([0, 0, (dot_rot_2_sym * rot_2_sym.transpose())[1,0]])\n",
    "omega_3_sym = smp.Matrix([0, 0, (dot_rot_3_sym * rot_3_sym.transpose())[1,0]])\n",
    "omega_2_sym.simplify()\n",
    "omega_3_sym.simplify()"
   ],
   "metadata": {
    "collapsed": false
   }
  },
  {
   "cell_type": "code",
   "execution_count": 57,
   "outputs": [],
   "source": [
    "omega_1_sym = smp.Matrix([0, 0, theta_sym.diff(time_sym)])\n",
    "vel_1_sym = omega_1_sym.cross(rot_1_sym * smp.Matrix(C1))\n",
    "vel_2_sym = smp.Matrix([x_1_f_sym.diff(time_sym), y_1_f_sym.diff(time_sym), 0]) + omega_2_sym.cross(rot_2_sym * smp.Matrix(C2))\n",
    "vel_3_sym = smp.Matrix([x_2_f_sym.diff(time_sym), y_2_f_sym.diff(time_sym), 0]) + omega_3_sym.cross(rot_3_sym * smp.Matrix(C3))\n",
    "\n",
    "vel_1_sym.simplify()\n",
    "vel_2_sym.simplify()\n",
    "vel_3_sym.simplify()"
   ],
   "metadata": {
    "collapsed": false
   }
  },
  {
   "cell_type": "code",
   "execution_count": 58,
   "outputs": [],
   "source": [
    "c1_sym = rot_1_sym * smp.Matrix(C1)\n",
    "c2_sym = smp.Matrix([x_1_f_sym, y_1_f_sym, 0]) + rot_2_sym * smp.Matrix(C2)\n",
    "c3_sym = smp.Matrix([x_2_f_sym, y_2_f_sym, 0]) + rot_3_sym * smp.Matrix(C3)\n",
    "\n",
    "c1_sym.simplify()\n",
    "c2_sym.simplify()\n",
    "c3_sym.simplify()"
   ],
   "metadata": {
    "collapsed": false
   }
  },
  {
   "cell_type": "code",
   "execution_count": 59,
   "outputs": [],
   "source": [
    "T_sym = smp.simplify(\n",
    "    M1 * vel_1_sym.transpose() * vel_1_sym +\n",
    "    M2 * vel_2_sym.transpose() * vel_2_sym +\n",
    "    M3 * vel_3_sym.transpose() * vel_3_sym\n",
    ") / 2\n",
    "T_sym += smp.simplify(\n",
    "    I1_ZZ * omega_1_sym.transpose() * omega_1_sym +\n",
    "    I2_ZZ * omega_2_sym.transpose() * omega_2_sym +\n",
    "    I3_ZZ * omega_3_sym.transpose() * omega_3_sym\n",
    ") / 2\n",
    "T_sym = T_sym[0,0]\n",
    "\n",
    "P_sym = ((M1 * c1_sym + M2 * c2_sym + M3 * c3_sym) * G_ACC)[1,0]\n",
    "\n",
    "T_sym = T_sym.simplify()\n",
    "P_sym = P_sym.simplify()"
   ],
   "metadata": {
    "collapsed": false
   }
  },
  {
   "cell_type": "code",
   "execution_count": 60,
   "outputs": [],
   "source": [
    "L_sym = T_sym - P_sym"
   ],
   "metadata": {
    "collapsed": false
   }
  },
  {
   "cell_type": "code",
   "execution_count": 61,
   "outputs": [],
   "source": [
    "left_L_sym = L_sym.diff(theta_sym.diff(time_sym)).diff(time_sym)\n",
    "right_L_sym = L_sym.diff(theta_sym)\n",
    "overall_L_sym = left_L_sym - right_L_sym"
   ],
   "metadata": {
    "collapsed": false
   }
  },
  {
   "cell_type": "code",
   "execution_count": 62,
   "outputs": [],
   "source": [
    "x_1_sym_over_theta_raw = smp.lambdify([theta_sym], x_1_sym.diff(theta_sym))\n",
    "y_1_sym_over_theta_raw = smp.lambdify([theta_sym], y_1_sym.diff(theta_sym))\n",
    "x_2_sym_over_theta_raw = smp.lambdify([theta_sym], x_2_sym.diff(theta_sym))\n",
    "y_2_sym_over_theta_raw = smp.lambdify([theta_sym], y_2_sym.diff(theta_sym))\n",
    "\n",
    "x_1_sym_over_theta_2_raw = smp.lambdify([theta_sym], x_1_sym.diff(theta_sym).diff(theta_sym))\n",
    "y_1_sym_over_theta_2_raw = smp.lambdify([theta_sym], y_1_sym.diff(theta_sym).diff(theta_sym))\n",
    "x_2_sym_over_theta_2_raw = smp.lambdify([theta_sym], x_2_sym.diff(theta_sym).diff(theta_sym))\n",
    "y_2_sym_over_theta_2_raw = smp.lambdify([theta_sym], y_2_sym.diff(theta_sym).diff(theta_sym))\n",
    "\n",
    "def get_first_over_theta(theta: float) -> np.ndarray:\n",
    "    return np.array(\n",
    "        [\n",
    "            x_1_sym_over_theta_raw(theta),\n",
    "            y_1_sym_over_theta_raw(theta)\n",
    "        ]\n",
    "    )\n",
    "\n",
    "def get_second_over_theta(theta: float) -> np.ndarray:\n",
    "    return np.array(\n",
    "        [\n",
    "            x_2_sym_over_theta_raw(theta),\n",
    "            y_2_sym_over_theta_raw(theta)\n",
    "        ]\n",
    "    )\n",
    "\n",
    "def get_first_over_theta_2(theta: float) -> np.ndarray:\n",
    "    return np.array(\n",
    "        [\n",
    "            x_1_sym_over_theta_2_raw(theta),\n",
    "            y_1_sym_over_theta_2_raw(theta)\n",
    "        ]\n",
    "    )\n",
    "\n",
    "def get_second_over_theta_2(theta: float) -> np.ndarray:\n",
    "    return np.array(\n",
    "        [\n",
    "            x_2_sym_over_theta_2_raw(theta),\n",
    "            y_2_sym_over_theta_2_raw(theta)\n",
    "        ]\n",
    "    )"
   ],
   "metadata": {
    "collapsed": false
   }
  },
  {
   "cell_type": "code",
   "execution_count": 63,
   "outputs": [],
   "source": [
    "overall_L_sym_raw = smp.lambdify(\n",
    "    [\n",
    "        theta_sym, theta_sym.diff(time_sym), theta_sym.diff(time_sym).diff(time_sym),\n",
    "        x_1_f_sym, y_1_f_sym, x_2_f_sym, y_2_f_sym,\n",
    "        x_1_f_sym.diff(theta_sym), y_1_f_sym.diff(theta_sym), x_2_f_sym.diff(theta_sym), y_2_f_sym.diff(theta_sym),\n",
    "        x_1_f_sym.diff(theta_sym).diff(theta_sym), y_1_f_sym.diff(theta_sym).diff(theta_sym),\n",
    "        x_2_f_sym.diff(theta_sym).diff(theta_sym), y_2_f_sym.diff(theta_sym).diff(theta_sym),\n",
    "    ],\n",
    "    overall_L_sym\n",
    ")\n",
    "\n",
    "def get_overall_lagrange(theta: float, theta_dot: float, theta_ddot: float) -> float:\n",
    "    return overall_L_sym_raw(\n",
    "        theta, theta_dot, theta_ddot,\n",
    "        *get_first_point(theta), *get_second_point(theta),\n",
    "        *get_first_over_theta(theta), *get_second_over_theta(theta),\n",
    "        *get_first_over_theta_2(theta), *get_second_over_theta_2(theta)\n",
    "    )"
   ],
   "metadata": {
    "collapsed": false
   }
  },
  {
   "cell_type": "markdown",
   "source": [
    "# Comparison"
   ],
   "metadata": {
    "collapsed": false
   }
  },
  {
   "cell_type": "code",
   "execution_count": 64,
   "outputs": [],
   "source": [
    "def load_nx_data(path: str, col: int = 1) -> np.ndarray:\n",
    "    data = pd.read_csv(path, header=1)\n",
    "    return data[data.columns[col]].to_numpy(dtype=float)\n",
    "\n",
    "def compute_analytical(timestamps: np.ndarray) -> np.ndarray:\n",
    "    theta_val = ANG_0\n",
    "    torques = []\n",
    "    for time_val in timestamps:\n",
    "        torques.append(\n",
    "            get_overall_lagrange(\n",
    "                theta_val + ANG_VEL_0 * time_val + (ANG_ACC_0 / 2) * time_val ** 2,\n",
    "                ANG_VEL_0 + ANG_ACC_0 * time_val,\n",
    "                ANG_ACC_0\n",
    "            )\n",
    "        )\n",
    "    return np.array(torques)\n",
    "\n",
    "torque_vals_nx = load_nx_data('torque.csv')\n",
    "time_vals_nx = load_nx_data('torque.csv', col=0)\n",
    "torque_vals = compute_analytical(time_vals_nx)"
   ],
   "metadata": {
    "collapsed": false
   }
  },
  {
   "cell_type": "code",
   "execution_count": 65,
   "outputs": [
    {
     "data": {
      "text/plain": "<Figure size 1000x1000 with 1 Axes>",
      "image/png": "[encoded data removed]"
     },
     "metadata": {},
     "output_type": "display_data"
    }
   ],
   "source": [
    "plt.figure(figsize=(10, 10))\n",
    "plt.plot(time_vals_nx, torque_vals_nx, label='NX torque')\n",
    "plt.plot(time_vals_nx, torque_vals, label='Analytical torque', linewidth=3)\n",
    "plt.xlabel('$t,s$')\n",
    "plt.ylabel(r'$\\tau$, $N \\cdot m$')\n",
    "plt.legend(loc='best')\n",
    "plt.show()"
   ],
   "metadata": {
    "collapsed": false
   }
  },
  {
   "cell_type": "code",
   "execution_count": 68,
   "outputs": [
    {
     "name": "stdout",
     "output_type": "stream",
     "text": [
      "STD: 0.33935734516312654\n"
     ]
    }
   ],
   "source": [
    "print('STD:', np.std(torque_vals_nx - torque_vals))"
   ],
   "metadata": {
    "collapsed": false
   }
  }
 ],
 "metadata": {
  "kernelspec": {
   "display_name": "Python 3",
   "language": "python",
   "name": "python3"
  },
  "language_info": {
   "codemirror_mode": {
    "name": "ipython",
    "version": 2
   },
   "file_extension": ".py",
   "mimetype": "text/x-python",
   "name": "python",
   "nbconvert_exporter": "python",
   "pygments_lexer": "ipython2",
   "version": "2.7.6"
  }
 },
 "nbformat": 4,
 "nbformat_minor": 0
}
